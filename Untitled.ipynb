{
 "cells": [
  {
   "cell_type": "code",
   "execution_count": 1,
   "id": "ee001985-c10d-4472-b8a3-fd5d14202433",
   "metadata": {},
   "outputs": [],
   "source": [
    "from keras.models import Sequential\n",
    "from keras.layers import Dense, Embedding, GlobalMaxPooling1D, Dropout\n",
    "from sklearn.preprocessing import LabelEncoder\n",
    "from sklearn.model_selection import train_test_split\n",
    "from keras.callbacks import ModelCheckpoint\n",
    "from keras.preprocessing.sequence import pad_sequences\n",
    "import pandas as pd\n",
    "from keras.preprocessing.text import Tokenizer\n",
    "from sklearn.metrics import confusion_matrix\n",
    "import numpy as np"
   ]
  },
  {
   "cell_type": "code",
   "execution_count": 2,
   "id": "94ea778e-3abc-4616-b52f-c2127d70cf66",
   "metadata": {},
   "outputs": [],
   "source": [
    "dataset = pd.read_csv('livros.csv')\n",
    "x, y = dataset.iloc[:,0], dataset.iloc[:,1]"
   ]
  },
  {
   "cell_type": "code",
   "execution_count": 3,
   "id": "bdd12a6d-ea78-4a69-bcb1-5cec7878ac37",
   "metadata": {},
   "outputs": [],
   "source": [
    "labelencoder = LabelEncoder()\n",
    "y = labelencoder.fit_transform(y)"
   ]
  },
  {
   "cell_type": "code",
   "execution_count": 4,
   "id": "0775a94b-57e3-4b90-87b8-4724c629914a",
   "metadata": {},
   "outputs": [],
   "source": [
    "# retirada das stop words\n",
    "\n",
    "words = [' o ', ' ao ', ' aos ' ,' os ', ' a ', ' as ', ' e ', ' um ', ' uma ', ' ele ', ' ela ', ' eles ', ' elas ',\n",
    "        ' do ', ' da ', ' dos ', ' das ', ' de ', ' no ', ' na ', ' nos ', ' nas ', ' pelo ',\n",
    "        ' pela ', ' pelos ', ' pelas ', ' num ', ' numa ', ' nuns ', ' numas ', ' dum ',\n",
    "        ' duma ', ' duns ', ' dumas ']\n",
    "\n",
    "x_filter = []\n",
    "\n",
    "for title in x:\n",
    "    for word in words:\n",
    "        title = title.replace(word, ' ')\n",
    "    x_filter.append(title)"
   ]
  },
  {
   "cell_type": "code",
   "execution_count": 5,
   "id": "5a9ee28e-a64a-4c95-8e07-9656d7165a45",
   "metadata": {},
   "outputs": [],
   "source": [
    "# tekenizando\n",
    "\n",
    "tokenizer = Tokenizer()\n",
    "tokenizer.fit_on_texts(x_filter)\n",
    "\n",
    "vocab = len(tokenizer.word_docs) + 1"
   ]
  },
  {
   "cell_type": "code",
   "execution_count": 6,
   "id": "a2e47bf0-1c15-4cd5-83a3-13bc188d396f",
   "metadata": {},
   "outputs": [],
   "source": [
    "x = tokenizer.texts_to_sequences(x_filter)"
   ]
  },
  {
   "cell_type": "code",
   "execution_count": 7,
   "id": "6b396066-227d-4532-8767-278b3fc5e08a",
   "metadata": {},
   "outputs": [],
   "source": [
    "max_length = max([len(z) for z in x])\n",
    "x = pad_sequences(x, maxlen=max_length, padding='post')"
   ]
  },
  {
   "cell_type": "code",
   "execution_count": 8,
   "id": "f0da9482-d79f-4636-b38d-b33ea672cf88",
   "metadata": {},
   "outputs": [],
   "source": [
    "x_train, x_test, y_train, y_test = train_test_split(x, y, test_size=0.33)"
   ]
  },
  {
   "cell_type": "code",
   "execution_count": 9,
   "id": "8676a6cc-1e2a-4d04-81c0-86bb6e098176",
   "metadata": {},
   "outputs": [
    {
     "name": "stderr",
     "output_type": "stream",
     "text": [
      "2022-01-23 18:34:08.002526: E tensorflow/stream_executor/cuda/cuda_driver.cc:271] failed call to cuInit: CUDA_ERROR_NO_DEVICE: no CUDA-capable device is detected\n",
      "2022-01-23 18:34:08.002567: I tensorflow/stream_executor/cuda/cuda_diagnostics.cc:156] kernel driver does not appear to be running on this host (grati-Inspiron-15-3567): /proc/driver/nvidia/version does not exist\n",
      "2022-01-23 18:34:08.003157: I tensorflow/core/platform/cpu_feature_guard.cc:151] This TensorFlow binary is optimized with oneAPI Deep Neural Network Library (oneDNN) to use the following CPU instructions in performance-critical operations:  AVX2 FMA\n",
      "To enable them in other operations, rebuild TensorFlow with the appropriate compiler flags.\n"
     ]
    }
   ],
   "source": [
    "model = Sequential()\n",
    "model.add(Embedding(input_dim=vocab, output_dim=80, input_length=max_length, trainable = True))\n",
    "model.add(GlobalMaxPooling1D())\n",
    "model.add(Dropout(0.3))\n",
    "model.add(Dense(units = 7, activation = 'softmax'))\n",
    "model.compile(optimizer = 'adam', loss = 'sparse_categorical_crossentropy', metrics = ['accuracy'])\n"
   ]
  },
  {
   "cell_type": "code",
   "execution_count": null,
   "id": "976b3974-0075-46be-b620-2d2a5071334a",
   "metadata": {},
   "outputs": [
    {
     "name": "stdout",
     "output_type": "stream",
     "text": [
      "Epoch 1/60\n",
      "17/28 [=================>............] - ETA: 0s - loss: 1.9253 - accuracy: 0.2812 WARNING:tensorflow:Can save best model only with val_acc available, skipping.\n",
      "28/28 [==============================] - 1s 8ms/step - loss: 1.9094 - accuracy: 0.3276 - val_loss: 1.8711 - val_accuracy: 0.3846\n",
      "Epoch 2/60\n",
      "12/28 [===========>..................] - ETA: 0s - loss: 1.8368 - accuracy: 0.3932WARNING:tensorflow:Can save best model only with val_acc available, skipping.\n",
      "28/28 [==============================] - 0s 5ms/step - loss: 1.8138 - accuracy: 0.4080 - val_loss: 1.7925 - val_accuracy: 0.3846\n",
      "Epoch 3/60\n",
      "27/28 [===========================>..] - ETA: 0s - loss: 1.7117 - accuracy: 0.3889WARNING:tensorflow:Can save best model only with val_acc available, skipping.\n",
      "28/28 [==============================] - 0s 5ms/step - loss: 1.7105 - accuracy: 0.3897 - val_loss: 1.7095 - val_accuracy: 0.3823\n",
      "Epoch 4/60\n",
      "26/28 [==========================>...] - ETA: 0s - loss: 1.6034 - accuracy: 0.3918WARNING:tensorflow:Can save best model only with val_acc available, skipping.\n",
      "28/28 [==============================] - 0s 5ms/step - loss: 1.6019 - accuracy: 0.3931 - val_loss: 1.6198 - val_accuracy: 0.3846\n",
      "Epoch 5/60\n",
      "16/28 [================>.............] - ETA: 0s - loss: 1.5309 - accuracy: 0.3828WARNING:tensorflow:Can save best model only with val_acc available, skipping.\n",
      "28/28 [==============================] - 0s 5ms/step - loss: 1.4860 - accuracy: 0.4126 - val_loss: 1.5356 - val_accuracy: 0.4009\n",
      "Epoch 6/60\n",
      "14/28 [==============>...............] - ETA: 0s - loss: 1.3406 - accuracy: 0.5089WARNING:tensorflow:Can save best model only with val_acc available, skipping.\n",
      "28/28 [==============================] - 0s 5ms/step - loss: 1.3689 - accuracy: 0.4667 - val_loss: 1.4506 - val_accuracy: 0.4499\n",
      "Epoch 7/60\n",
      "26/28 [==========================>...] - ETA: 0s - loss: 1.2330 - accuracy: 0.5625WARNING:tensorflow:Can save best model only with val_acc available, skipping.\n",
      "28/28 [==============================] - 0s 5ms/step - loss: 1.2444 - accuracy: 0.5540 - val_loss: 1.3623 - val_accuracy: 0.5221\n",
      "Epoch 8/60\n",
      "25/28 [=========================>....] - ETA: 0s - loss: 1.1237 - accuracy: 0.6375WARNING:tensorflow:Can save best model only with val_acc available, skipping.\n",
      "28/28 [==============================] - 0s 6ms/step - loss: 1.1162 - accuracy: 0.6471 - val_loss: 1.2729 - val_accuracy: 0.5921\n",
      "Epoch 9/60\n",
      "13/28 [============>.................] - ETA: 0s - loss: 1.0242 - accuracy: 0.7139WARNING:tensorflow:Can save best model only with val_acc available, skipping.\n",
      "28/28 [==============================] - 0s 5ms/step - loss: 0.9879 - accuracy: 0.7471 - val_loss: 1.1878 - val_accuracy: 0.6527\n",
      "Epoch 10/60\n",
      "18/28 [==================>...........] - ETA: 0s - loss: 0.8788 - accuracy: 0.8229WARNING:tensorflow:Can save best model only with val_acc available, skipping.\n",
      "28/28 [==============================] - 0s 4ms/step - loss: 0.8706 - accuracy: 0.8103 - val_loss: 1.1086 - val_accuracy: 0.6876\n",
      "Epoch 11/60\n",
      "14/28 [==============>...............] - ETA: 0s - loss: 0.7560 - accuracy: 0.8817WARNING:tensorflow:Can save best model only with val_acc available, skipping.\n",
      "28/28 [==============================] - 0s 5ms/step - loss: 0.7565 - accuracy: 0.8770 - val_loss: 1.0417 - val_accuracy: 0.7203\n",
      "Epoch 12/60\n",
      "14/28 [==============>...............] - ETA: 0s - loss: 0.6628 - accuracy: 0.8996WARNING:tensorflow:Can save best model only with val_acc available, skipping.\n",
      "28/28 [==============================] - 0s 5ms/step - loss: 0.6605 - accuracy: 0.8966 - val_loss: 0.9843 - val_accuracy: 0.7296\n",
      "Epoch 13/60\n",
      "14/28 [==============>...............] - ETA: 0s - loss: 0.5995 - accuracy: 0.9196WARNING:tensorflow:Can save best model only with val_acc available, skipping.\n",
      "28/28 [==============================] - 0s 5ms/step - loss: 0.5792 - accuracy: 0.9126 - val_loss: 0.9355 - val_accuracy: 0.7436\n",
      "Epoch 14/60\n",
      "16/28 [================>.............] - ETA: 0s - loss: 0.5064 - accuracy: 0.9238WARNING:tensorflow:Can save best model only with val_acc available, skipping.\n",
      "28/28 [==============================] - 0s 5ms/step - loss: 0.5041 - accuracy: 0.9218 - val_loss: 0.8933 - val_accuracy: 0.7436\n",
      "Epoch 15/60\n",
      "15/28 [===============>..............] - ETA: 0s - loss: 0.4394 - accuracy: 0.9354WARNING:tensorflow:Can save best model only with val_acc available, skipping.\n",
      "28/28 [==============================] - 0s 5ms/step - loss: 0.4360 - accuracy: 0.9368 - val_loss: 0.8581 - val_accuracy: 0.7529\n",
      "Epoch 16/60\n",
      "16/28 [================>.............] - ETA: 0s - loss: 0.3768 - accuracy: 0.9570WARNING:tensorflow:Can save best model only with val_acc available, skipping.\n",
      "28/28 [==============================] - 0s 5ms/step - loss: 0.3728 - accuracy: 0.9494 - val_loss: 0.8289 - val_accuracy: 0.7576\n",
      "Epoch 17/60\n",
      "15/28 [===============>..............] - ETA: 0s - loss: 0.3349 - accuracy: 0.9604WARNING:tensorflow:Can save best model only with val_acc available, skipping.\n",
      "28/28 [==============================] - 0s 4ms/step - loss: 0.3254 - accuracy: 0.9621 - val_loss: 0.8035 - val_accuracy: 0.7622\n",
      "Epoch 18/60\n",
      "15/28 [===============>..............] - ETA: 0s - loss: 0.3072 - accuracy: 0.9688WARNING:tensorflow:Can save best model only with val_acc available, skipping.\n",
      "28/28 [==============================] - 0s 4ms/step - loss: 0.2914 - accuracy: 0.9690 - val_loss: 0.7835 - val_accuracy: 0.7809\n",
      "Epoch 19/60\n",
      "14/28 [==============>...............] - ETA: 0s - loss: 0.2646 - accuracy: 0.9554WARNING:tensorflow:Can save best model only with val_acc available, skipping.\n",
      "28/28 [==============================] - 0s 5ms/step - loss: 0.2525 - accuracy: 0.9609 - val_loss: 0.7662 - val_accuracy: 0.7902\n",
      "Epoch 20/60\n",
      "16/28 [================>.............] - ETA: 0s - loss: 0.2117 - accuracy: 0.9824WARNING:tensorflow:Can save best model only with val_acc available, skipping.\n",
      "28/28 [==============================] - 0s 4ms/step - loss: 0.2270 - accuracy: 0.9759 - val_loss: 0.7512 - val_accuracy: 0.7925\n",
      "Epoch 21/60\n",
      "13/28 [============>.................] - ETA: 0s - loss: 0.2025 - accuracy: 0.9712WARNING:tensorflow:Can save best model only with val_acc available, skipping.\n",
      "28/28 [==============================] - 0s 4ms/step - loss: 0.2002 - accuracy: 0.9816 - val_loss: 0.7382 - val_accuracy: 0.7925\n",
      "Epoch 22/60\n",
      "15/28 [===============>..............] - ETA: 0s - loss: 0.1821 - accuracy: 0.9854WARNING:tensorflow:Can save best model only with val_acc available, skipping.\n",
      "28/28 [==============================] - 0s 4ms/step - loss: 0.1753 - accuracy: 0.9851 - val_loss: 0.7279 - val_accuracy: 0.7949\n",
      "Epoch 23/60\n",
      "15/28 [===============>..............] - ETA: 0s - loss: 0.1620 - accuracy: 0.9812WARNING:tensorflow:Can save best model only with val_acc available, skipping.\n",
      "28/28 [==============================] - 0s 4ms/step - loss: 0.1521 - accuracy: 0.9862 - val_loss: 0.7194 - val_accuracy: 0.7972\n",
      "Epoch 24/60\n",
      "16/28 [================>.............] - ETA: 0s - loss: 0.1588 - accuracy: 0.9844WARNING:tensorflow:Can save best model only with val_acc available, skipping.\n",
      "28/28 [==============================] - 0s 4ms/step - loss: 0.1446 - accuracy: 0.9885 - val_loss: 0.7122 - val_accuracy: 0.7949\n",
      "Epoch 25/60\n",
      "15/28 [===============>..............] - ETA: 0s - loss: 0.1155 - accuracy: 0.9937WARNING:tensorflow:Can save best model only with val_acc available, skipping.\n",
      "28/28 [==============================] - 0s 4ms/step - loss: 0.1236 - accuracy: 0.9908 - val_loss: 0.7060 - val_accuracy: 0.7925\n",
      "Epoch 26/60\n",
      "16/28 [================>.............] - ETA: 0s - loss: 0.1167 - accuracy: 0.9883WARNING:tensorflow:Can save best model only with val_acc available, skipping.\n",
      "28/28 [==============================] - 0s 4ms/step - loss: 0.1187 - accuracy: 0.9874 - val_loss: 0.7005 - val_accuracy: 0.7995\n",
      "Epoch 27/60\n",
      "15/28 [===============>..............] - ETA: 0s - loss: 0.1121 - accuracy: 0.9875WARNING:tensorflow:Can save best model only with val_acc available, skipping.\n",
      "28/28 [==============================] - 0s 4ms/step - loss: 0.1064 - accuracy: 0.9874 - val_loss: 0.6962 - val_accuracy: 0.7995\n",
      "Epoch 28/60\n",
      "15/28 [===============>..............] - ETA: 0s - loss: 0.0889 - accuracy: 0.9937WARNING:tensorflow:Can save best model only with val_acc available, skipping.\n",
      "28/28 [==============================] - 0s 4ms/step - loss: 0.0912 - accuracy: 0.9920 - val_loss: 0.6925 - val_accuracy: 0.7972\n",
      "Epoch 29/60\n",
      "16/28 [================>.............] - ETA: 0s - loss: 0.0856 - accuracy: 0.9941WARNING:tensorflow:Can save best model only with val_acc available, skipping.\n",
      "28/28 [==============================] - 0s 4ms/step - loss: 0.0868 - accuracy: 0.9920 - val_loss: 0.6895 - val_accuracy: 0.7972\n",
      "Epoch 30/60\n",
      "18/28 [==================>...........] - ETA: 0s - loss: 0.0742 - accuracy: 0.9965WARNING:tensorflow:Can save best model only with val_acc available, skipping.\n",
      "28/28 [==============================] - 0s 6ms/step - loss: 0.0774 - accuracy: 0.9943 - val_loss: 0.6864 - val_accuracy: 0.7972\n",
      "Epoch 31/60\n",
      "15/28 [===============>..............] - ETA: 0s - loss: 0.0701 - accuracy: 0.9979WARNING:tensorflow:Can save best model only with val_acc available, skipping.\n",
      "28/28 [==============================] - 0s 4ms/step - loss: 0.0685 - accuracy: 0.9977 - val_loss: 0.6838 - val_accuracy: 0.7972\n",
      "Epoch 32/60\n",
      "15/28 [===============>..............] - ETA: 0s - loss: 0.0700 - accuracy: 0.9979WARNING:tensorflow:Can save best model only with val_acc available, skipping.\n",
      "28/28 [==============================] - 0s 5ms/step - loss: 0.0667 - accuracy: 0.9966 - val_loss: 0.6813 - val_accuracy: 0.7995\n",
      "Epoch 33/60\n",
      "17/28 [=================>............] - ETA: 0s - loss: 0.0622 - accuracy: 0.9926WARNING:tensorflow:Can save best model only with val_acc available, skipping.\n",
      "28/28 [==============================] - 0s 4ms/step - loss: 0.0631 - accuracy: 0.9920 - val_loss: 0.6797 - val_accuracy: 0.7995\n",
      "Epoch 34/60\n",
      "13/28 [============>.................] - ETA: 0s - loss: 0.0554 - accuracy: 0.9976WARNING:tensorflow:Can save best model only with val_acc available, skipping.\n",
      "28/28 [==============================] - 0s 4ms/step - loss: 0.0540 - accuracy: 0.9989 - val_loss: 0.6781 - val_accuracy: 0.7995\n",
      "Epoch 35/60\n",
      "16/28 [================>.............] - ETA: 0s - loss: 0.0452 - accuracy: 0.9980WARNING:tensorflow:Can save best model only with val_acc available, skipping.\n",
      "28/28 [==============================] - 0s 4ms/step - loss: 0.0512 - accuracy: 0.9977 - val_loss: 0.6769 - val_accuracy: 0.7995\n",
      "Epoch 36/60\n",
      "13/28 [============>.................] - ETA: 0s - loss: 0.0551 - accuracy: 0.9928WARNING:tensorflow:Can save best model only with val_acc available, skipping.\n",
      "28/28 [==============================] - 0s 5ms/step - loss: 0.0481 - accuracy: 0.9966 - val_loss: 0.6758 - val_accuracy: 0.7995\n",
      "Epoch 37/60\n",
      "15/28 [===============>..............] - ETA: 0s - loss: 0.0412 - accuracy: 1.0000WARNING:tensorflow:Can save best model only with val_acc available, skipping.\n",
      "28/28 [==============================] - 0s 4ms/step - loss: 0.0431 - accuracy: 1.0000 - val_loss: 0.6750 - val_accuracy: 0.7995\n",
      "Epoch 38/60\n",
      "13/28 [============>.................] - ETA: 0s - loss: 0.0374 - accuracy: 0.9976WARNING:tensorflow:Can save best model only with val_acc available, skipping.\n",
      "28/28 [==============================] - 0s 5ms/step - loss: 0.0409 - accuracy: 0.9977 - val_loss: 0.6738 - val_accuracy: 0.7995\n",
      "Epoch 39/60\n",
      "27/28 [===========================>..] - ETA: 0s - loss: 0.0386 - accuracy: 0.9977WARNING:tensorflow:Can save best model only with val_acc available, skipping.\n",
      "28/28 [==============================] - 0s 5ms/step - loss: 0.0385 - accuracy: 0.9977 - val_loss: 0.6727 - val_accuracy: 0.7972\n",
      "Epoch 40/60\n",
      "15/28 [===============>..............] - ETA: 0s - loss: 0.0363 - accuracy: 0.9979WARNING:tensorflow:Can save best model only with val_acc available, skipping.\n",
      "28/28 [==============================] - 0s 4ms/step - loss: 0.0375 - accuracy: 0.9977 - val_loss: 0.6720 - val_accuracy: 0.7995\n",
      "Epoch 41/60\n",
      "13/28 [============>.................] - ETA: 0s - loss: 0.0277 - accuracy: 1.0000WARNING:tensorflow:Can save best model only with val_acc available, skipping.\n",
      "28/28 [==============================] - 0s 5ms/step - loss: 0.0332 - accuracy: 0.9989 - val_loss: 0.6718 - val_accuracy: 0.8019\n",
      "Epoch 42/60\n",
      "13/28 [============>.................] - ETA: 0s - loss: 0.0324 - accuracy: 1.0000WARNING:tensorflow:Can save best model only with val_acc available, skipping.\n",
      "28/28 [==============================] - 0s 4ms/step - loss: 0.0320 - accuracy: 0.9989 - val_loss: 0.6713 - val_accuracy: 0.8019\n",
      "Epoch 43/60\n",
      "14/28 [==============>...............] - ETA: 0s - loss: 0.0309 - accuracy: 1.0000WARNING:tensorflow:Can save best model only with val_acc available, skipping.\n",
      "28/28 [==============================] - 0s 4ms/step - loss: 0.0322 - accuracy: 0.9989 - val_loss: 0.6712 - val_accuracy: 0.8019\n",
      "Epoch 44/60\n",
      "16/28 [================>.............] - ETA: 0s - loss: 0.0303 - accuracy: 0.9961WARNING:tensorflow:Can save best model only with val_acc available, skipping.\n",
      "28/28 [==============================] - 0s 4ms/step - loss: 0.0303 - accuracy: 0.9966 - val_loss: 0.6713 - val_accuracy: 0.8019\n",
      "Epoch 45/60\n",
      "15/28 [===============>..............] - ETA: 0s - loss: 0.0290 - accuracy: 0.9958WARNING:tensorflow:Can save best model only with val_acc available, skipping.\n",
      "28/28 [==============================] - 0s 4ms/step - loss: 0.0277 - accuracy: 0.9966 - val_loss: 0.6715 - val_accuracy: 0.8019\n",
      "Epoch 46/60\n",
      "17/28 [=================>............] - ETA: 0s - loss: 0.0231 - accuracy: 1.0000WARNING:tensorflow:Can save best model only with val_acc available, skipping.\n",
      "28/28 [==============================] - 0s 4ms/step - loss: 0.0249 - accuracy: 1.0000 - val_loss: 0.6717 - val_accuracy: 0.8019\n",
      "Epoch 47/60\n",
      "12/28 [===========>..................] - ETA: 0s - loss: 0.0270 - accuracy: 0.9974WARNING:tensorflow:Can save best model only with val_acc available, skipping.\n",
      "28/28 [==============================] - 0s 5ms/step - loss: 0.0258 - accuracy: 0.9977 - val_loss: 0.6723 - val_accuracy: 0.8019\n",
      "Epoch 48/60\n",
      "15/28 [===============>..............] - ETA: 0s - loss: 0.0279 - accuracy: 0.9958WARNING:tensorflow:Can save best model only with val_acc available, skipping.\n",
      "28/28 [==============================] - 0s 4ms/step - loss: 0.0244 - accuracy: 0.9977 - val_loss: 0.6723 - val_accuracy: 0.8019\n",
      "Epoch 49/60\n",
      "14/28 [==============>...............] - ETA: 0s - loss: 0.0200 - accuracy: 1.0000WARNING:tensorflow:Can save best model only with val_acc available, skipping.\n",
      "28/28 [==============================] - 0s 4ms/step - loss: 0.0226 - accuracy: 0.9977 - val_loss: 0.6718 - val_accuracy: 0.8019\n",
      "Epoch 50/60\n",
      "14/28 [==============>...............] - ETA: 0s - loss: 0.0283 - accuracy: 0.9955WARNING:tensorflow:Can save best model only with val_acc available, skipping.\n",
      "28/28 [==============================] - 0s 4ms/step - loss: 0.0230 - accuracy: 0.9977 - val_loss: 0.6721 - val_accuracy: 0.8019\n",
      "Epoch 51/60\n",
      "17/28 [=================>............] - ETA: 0s - loss: 0.0218 - accuracy: 1.0000WARNING:tensorflow:Can save best model only with val_acc available, skipping.\n",
      "28/28 [==============================] - 0s 4ms/step - loss: 0.0202 - accuracy: 1.0000 - val_loss: 0.6724 - val_accuracy: 0.8019\n",
      "Epoch 52/60\n",
      "15/28 [===============>..............] - ETA: 0s - loss: 0.0195 - accuracy: 0.9979WARNING:tensorflow:Can save best model only with val_acc available, skipping.\n",
      "28/28 [==============================] - 0s 4ms/step - loss: 0.0186 - accuracy: 0.9989 - val_loss: 0.6727 - val_accuracy: 0.8042\n",
      "Epoch 53/60\n",
      "14/28 [==============>...............] - ETA: 0s - loss: 0.0238 - accuracy: 0.9978WARNING:tensorflow:Can save best model only with val_acc available, skipping.\n",
      "28/28 [==============================] - 0s 4ms/step - loss: 0.0228 - accuracy: 0.9977 - val_loss: 0.6725 - val_accuracy: 0.8065\n",
      "Epoch 54/60\n",
      "14/28 [==============>...............] - ETA: 0s - loss: 0.0159 - accuracy: 1.0000WARNING:tensorflow:Can save best model only with val_acc available, skipping.\n",
      "28/28 [==============================] - 0s 4ms/step - loss: 0.0164 - accuracy: 1.0000 - val_loss: 0.6732 - val_accuracy: 0.8065\n",
      "Epoch 55/60\n",
      "14/28 [==============>...............] - ETA: 0s - loss: 0.0162 - accuracy: 1.0000WARNING:tensorflow:Can save best model only with val_acc available, skipping.\n",
      "28/28 [==============================] - 0s 5ms/step - loss: 0.0176 - accuracy: 0.9989 - val_loss: 0.6735 - val_accuracy: 0.8065\n",
      "Epoch 56/60\n",
      " 1/28 [>.............................] - ETA: 0s - loss: 0.0817 - accuracy: 0.9688"
     ]
    }
   ],
   "source": [
    "mc = ModelCheckpoint('weights.best.hdf5', monitor='val_acc', save_best_only=True, mode='max')\n",
    "\n",
    "model.fit(x_train, y_train, validation_data = (x_test, y_test), batch_size = 32, epochs = 60, callbacks = [mc])\n",
    "\n",
    "#model.load_weights('weights.best.hdf5')\n",
    "print(model.evaluate(x_test, y_test))"
   ]
  },
  {
   "cell_type": "code",
   "execution_count": null,
   "id": "fb769d62-5f30-4eae-80c3-d859e2498fd2",
   "metadata": {},
   "outputs": [],
   "source": [
    "predict_x=model.predict(x_test) \n",
    "classes_x=np.argmax(predict_x,axis=1)"
   ]
  },
  {
   "cell_type": "code",
   "execution_count": null,
   "id": "7dc0e4cb-b9b2-4e30-8338-03a0360bbfd1",
   "metadata": {},
   "outputs": [],
   "source": [
    "matrix = confusion_matrix(y_test, classes_x)"
   ]
  },
  {
   "cell_type": "code",
   "execution_count": null,
   "id": "b0ea0920-bb8a-499f-8bf8-18ae1a64fae2",
   "metadata": {},
   "outputs": [],
   "source": [
    "matrix"
   ]
  },
  {
   "cell_type": "code",
   "execution_count": null,
   "id": "74b9306c-9a8f-4e8e-a00b-ba94812832b5",
   "metadata": {},
   "outputs": [],
   "source": [
    "import seaborn as sns\n",
    "sns.heatmap(matrix, annot=True)"
   ]
  }
 ],
 "metadata": {
  "kernelspec": {
   "display_name": "Python 3 (ipykernel)",
   "language": "python",
   "name": "python3"
  },
  "language_info": {
   "codemirror_mode": {
    "name": "ipython",
    "version": 3
   },
   "file_extension": ".py",
   "mimetype": "text/x-python",
   "name": "python",
   "nbconvert_exporter": "python",
   "pygments_lexer": "ipython3",
   "version": "3.9.5"
  }
 },
 "nbformat": 4,
 "nbformat_minor": 5
}
